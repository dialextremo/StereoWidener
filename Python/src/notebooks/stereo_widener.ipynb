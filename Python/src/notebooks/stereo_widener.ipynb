{
 "cells": [
  {
   "cell_type": "code",
   "execution_count": null,
   "id": "9d7a707a-7e88-4156-8cd9-c8b26effe2ba",
   "metadata": {},
   "outputs": [],
   "source": [
    "import numpy as np\n",
    "from pathlib import Path\n",
    "import soundfile as sf\n",
    "from scipy.signal import chirp, spectrogram\n",
    "import matplotlib.pyplot as plt\n",
    "# plt.rcParams['text.usetex'] = True\n",
    "import IPython\n",
    "from tqdm import tqdm\n",
    "\n",
    "import os, sys\n",
    "path = os.path.abspath('../.')\n",
    "sys.path.append(path)"
   ]
  },
  {
   "cell_type": "code",
   "execution_count": null,
   "id": "f5ab4ac3-0ea1-4e15-ad35-65c5322817d0",
   "metadata": {},
   "outputs": [],
   "source": [
    "from velvet import *\n",
    "from allpass import *\n",
    "from utils import ms_to_samps, db, estimate_onsets_log_threshold\n",
    "from widener import *\n",
    "from hrtf_widener import *\n",
    "from plot import *\n",
    "from interaural_cues import itd_maxiacc\n",
    "save_flag = False"
   ]
  },
  {
   "cell_type": "markdown",
   "id": "1ecb3880-b0dc-4df2-ab30-360e8a234379",
   "metadata": {},
   "source": [
    "### Helper functions"
   ]
  },
  {
   "cell_type": "code",
   "execution_count": null,
   "id": "a552b90a-833b-4925-bbf9-6e59fdaa0a68",
   "metadata": {},
   "outputs": [],
   "source": [
    "def plot_spectrogram(signal: np.ndarray, fs:float, title: str, nfft:int=2**10, axis:Optional[int]=None):\n",
    "    if axis is None:\n",
    "        ff, tt, Sxx = spectrogram(signal, fs=fs, window='hann', nfft=nfft)\n",
    "    else:\n",
    "        ff, tt, Sxx = spectrogram(signal, fs=fs, window='hann', nfft=nfft, axis=axis)\n",
    "    if Sxx.ndim == 3:\n",
    "        fig, ax = plt.subplots(2,1)\n",
    "        for num_sig in range(Sxx.shape[1]):\n",
    "            ax[num_sig].pcolormesh(tt, ff, np.squeeze(Sxx[:,num_sig,:]), shading='gouraud')\n",
    "            ax[num_sig].set_xlabel('t (sec)')\n",
    "            ax[num_sig].set_ylabel('Frequency (Hz)')\n",
    "            ax[num_sig].grid(True)\n",
    "        ax[0].set_title(title)\n",
    "\n",
    "    else:\n",
    "        fig, ax = plt.subplots()\n",
    "        plt.pcolormesh(tt, ff, Sxx, shading='gouraud')\n",
    "        ax.set_title(title)\n",
    "        ax.set_xlabel('t (sec)')\n",
    "        ax.set_ylabel('Frequency (Hz)')\n",
    "        ax.grid(True)\n",
    "    plt.show()"
   ]
  },
  {
   "cell_type": "markdown",
   "id": "3d4883bd-6548-4e85-a0e7-703473832625",
   "metadata": {},
   "source": [
    "#### Create a chirp signal and duplicate it"
   ]
  },
  {
   "cell_type": "code",
   "execution_count": null,
   "id": "5a4e149d-b6ed-446a-a923-c62cf62780ff",
   "metadata": {},
   "outputs": [],
   "source": [
    "fs = 48000\n",
    "input_len_sec = 2.0\n",
    "time_vec = np.arange(0, input_len_sec, 1.0/fs)\n",
    "input_signal = chirp(time_vec, f0=20, t1=input_len_sec, f1=20000, method='logarithmic')\n",
    "input_signal_stereo = np.vstack((input_signal, input_signal))\n",
    "\n",
    "# plot, and listen to chirp\n",
    "plot_spectrogram(input_signal_stereo.T, fs, 'Input chirp', axis=0)\n",
    "sf.write('../../audio/input_chirp.wav', input_signal_stereo.T, fs)\n",
    "IPython.display.Audio('../../audio/input_chirp.wav')\n"
   ]
  },
  {
   "cell_type": "markdown",
   "id": "28030bec-1dc5-493c-af09-aba303b62f30",
   "metadata": {},
   "source": [
    "### Pass chirp through HRTF based stereo widener and plot the ICC as a function of speaker separation angle = $[0, \\pi/2]$\n",
    "\n",
    "There is no point plotting the ICC between the left and the right output channels here, as they will always be identical."
   ]
  },
  {
   "cell_type": "code",
   "execution_count": null,
   "id": "85afe55f-57ee-40ea-8c29-ac41258c8942",
   "metadata": {},
   "outputs": [],
   "source": [
    "num_freq_samples = 2**9\n",
    "num_time_samples = 2**9\n",
    "input_signal = np.zeros((int(0.5*fs), 2))\n",
    "input_signal[0,:] = np.ones(2)\n",
    "\n",
    "# input_signal, fs = sf.read('../../../Examples/original.mp3')\n",
    "# save_flag = True\n",
    "\n",
    "hrtf_widener = HRTFStereoWidener(sample_rate=fs, \n",
    "                                 azimuth_range=(-90,90), \n",
    "                                 num_freq_points=num_freq_samples, \n",
    "                                 num_time_samples=num_time_samples,\n",
    "                                 head_radius=0.085)\n",
    "num_beta = 5\n",
    "beta = np.linspace(0, np.pi/2, num_beta)\n",
    "itds = np.zeros(num_beta)\n",
    "max_iacc = np.zeros(num_beta)\n",
    "bands_per_octave=3\n",
    "iac_freqs = pf.dsp.filter.fractional_octave_frequencies(num_fractions=bands_per_octave, \n",
    "                                            frequency_range=(20, fs/2.0), \n",
    "                                            return_cutoff=False)[0]\n",
    "num_iac_freqs = len(iac_freqs)\n",
    "hrtf_set = hrtf_widener.hrtf_set\n",
    "res_tup = np.array([itd_maxiacc(np.squeeze(hrtf_set.hrirs[k, ...]), fs, time_axis=0, ear_axis=1) \n",
    "                     for k in range (hrtf_widener.num_orientations)])\n",
    "itds_set = res_tup[:, 0]\n",
    "def find_closest_itd(all_itds,fs, all_doas, des_doa):\n",
    "    closest_idx = np.argmin(np.abs(all_doas - des_doa))\n",
    "    return all_itds[closest_idx] * fs\n",
    "\n",
    "fig, ax = plt.subplots(figsize=(6, 4))\n",
    "for k in tqdm(range(num_beta)):\n",
    "    hrtf_widener.update_speaker_angle(np.degrees(beta[k]))\n",
    "    output_signal = hrtf_widener.process(input_signal.copy())\n",
    "    closest_itd = find_closest_itd(itds_set, fs, hrtf_set.doa, np.degrees(beta[k]))\n",
    "    onset = estimate_onsets_log_threshold(output_signal[:, 0], axis=0)\n",
    "    output_signal = np.roll(output_signal, -onset, axis=0) \n",
    "\n",
    "    plt.subplot(num_beta,1,k+1)\n",
    "    plt.plot(output_signal[:num_time_samples, :])\n",
    "    plt.vlines([0, closest_itd], 0, 1, 'k', linestyles='dashed')\n",
    "\n",
    "    # if save_flag:\n",
    "    #     sf.write(f'../../../Examples/hrtf_spk_angle={np.degrees(beta[k])}.wav', output_signal, fs)\n",
    "\n",
    "if save_flag:\n",
    "    plt.savefig('../../figures/hrtf_stereo_widener_IRs.png', dpi=300)\n"
   ]
  },
  {
   "cell_type": "markdown",
   "id": "e47b19ac-929d-4725-b633-2bd371f29502",
   "metadata": {},
   "source": [
    "### Get decorrelated signals with velvet noise filters"
   ]
  },
  {
   "cell_type": "code",
   "execution_count": null,
   "id": "41d5df44-23a2-43b4-9e8c-605fcae2d257",
   "metadata": {},
   "outputs": [],
   "source": [
    "opt_vn_path = Path('../../../Resources/opt_vn_filters.txt')\n",
    "vn_output_signal = process_velvet(input_signal_stereo, fs, opt_vn_path)\n",
    "\n",
    "# plot and listen to output\n",
    "plot_spectrogram(vn_output_signal, fs, 'VN stereo chirps', axis=0)\n",
    "sf.write('../../audio/vn_chirp.wav', vn_output_signal, fs)\n",
    "IPython.display.Audio('../../audio/vn_chirp.wav')"
   ]
  },
  {
   "cell_type": "markdown",
   "id": "885079ea-f08c-44c8-91c2-e84eadd5c6f5",
   "metadata": {},
   "source": [
    "### Get decorrelated signals with allpass filters"
   ]
  },
  {
   "cell_type": "code",
   "execution_count": null,
   "id": "3b757770-7ccd-49a6-9540-f890a3e9aaa2",
   "metadata": {},
   "outputs": [],
   "source": [
    "allpass_output_signal = process_allpass(input_signal_stereo, fs, num_biquads=200)\n",
    "plot_spectrogram(allpass_output_signal, fs, 'Allpass stereo chirps', axis=0)\n",
    "\n",
    "# plot and listen to output\n",
    "sf.write('../../audio/allpass_chirp.wav', allpass_output_signal, fs)\n",
    "IPython.display.Audio('../../audio/allpass_chirp.wav')"
   ]
  },
  {
   "cell_type": "markdown",
   "id": "728552bf-e41b-4b83-9ef7-978e192635ff",
   "metadata": {},
   "source": [
    "### Pass through stereo widener for different values of beta\n"
   ]
  },
  {
   "cell_type": "code",
   "execution_count": null,
   "id": "d653e884-36f4-4dba-884e-b5f6f68fef6c",
   "metadata": {},
   "outputs": [],
   "source": [
    "decorr_type = DecorrelationType.ALLPASS\n",
    "beta_init = 0\n",
    "stereo_widener = StereoWidenerBroadband(input_signal_stereo, fs, decorr_type, beta_init)\n",
    "\n",
    "num_beta = 100\n",
    "beta = np.linspace(0, np.pi/2, num_beta)\n",
    "decorr_correlation_coeffs = np.zeros(num_beta)\n",
    "for k in range(num_beta):\n",
    "    stereo_widener.update_beta(beta[k])\n",
    "    output_signal = stereo_widener.process()\n",
    "    decorr_correlation_coeffs[k] = stereo_widener.calculate_correlation(output_signal)\n",
    "\n",
    "fig, ax = plt.subplots(figsize=(6, 4))\n",
    "ax.plot(beta / (np.pi / 2), decorr_correlation_coeffs)\n",
    "ax.set_ylim([0, 1])\n",
    "ax.set_ylabel('Correlation coefficient')\n",
    "ax.set_xlabel('Normalised angle')\n",
    "ax.set_xlim([0, 1])\n",
    "plt.grid()\n",
    "if save_flag:\n",
    "    plt.savefig('../../figures/beta_vs_correlation.png', dpi=300)"
   ]
  },
  {
   "cell_type": "markdown",
   "id": "fad649a1-af3a-40a5-8774-0870b6afb123",
   "metadata": {},
   "source": [
    "### Pass stereo widener through frequency based architecture and plot IC"
   ]
  },
  {
   "cell_type": "code",
   "execution_count": null,
   "id": "40210022-759d-4285-94bd-b4f9c18e16ee",
   "metadata": {},
   "outputs": [],
   "source": [
    "beta = [(0, np.pi/2), (np.pi/2, 0)]\n",
    "num_beta = len(beta)\n",
    "filterbank_type = FilterbankType.AMP_PRESERVE\n",
    "cutoff_freq = 250\n",
    "bands_per_octave=3\n",
    "num_iter = 100\n",
    "iac_freqs = pf.dsp.filter.fractional_octave_frequencies(num_fractions=bands_per_octave, \n",
    "                                            frequency_range=(20, fs/2.0), \n",
    "                                            return_cutoff=False)[0]\n",
    "num_freqs = len(iac_freqs)\n",
    "icc_vector = np.zeros((num_iter, num_beta, num_freqs))\n",
    "\n",
    "for iter in tqdm(range(num_iter)):\n",
    "    stereo_widener = StereoWidenerFrequencyBased(input_signal_stereo, fs, filterbank_type, decorr_type, (0,0), cutoff_freq)\n",
    "    for k in range(num_beta):\n",
    "        stereo_widener.update_beta(beta[k])\n",
    "        output_signal = stereo_widener.process()\n",
    "        icc_vector[iter, k, :], _ = stereo_widener.calculate_interchannel_coherence(output_signal)\n",
    "    del stereo_widener"
   ]
  },
  {
   "cell_type": "code",
   "execution_count": null,
   "id": "e226631d-6d02-4a82-bfd6-e2f9c3c2aa7a",
   "metadata": {},
   "outputs": [],
   "source": [
    "plt.rc('text', usetex=False)\n",
    "semiaudplot(iac_freqs, np.median(icc_vector, axis=0), marker='*', interp=False)\n",
    "plt.ylabel('Coherence')\n",
    "plt.ylim([0, 1.01])\n",
    "plt.vlines(cutoff_freq, 0, 1.01, colors= 'k', linestyles='dashed')\n",
    "plt.legend([\"beta_{low} = 0, beta_{high} = pi/2\", \"beta_{low} = pi/2, beta_{high} = 0\"], loc=\"upper right\")\n",
    "plt.grid()\n",
    "plt.savefig('../../figures/stereo_widener_iac.png', dpi=300)"
   ]
  }
 ],
 "metadata": {
  "kernelspec": {
   "display_name": "Python 3 (ipykernel)",
   "language": "python",
   "name": "python3"
  },
  "language_info": {
   "codemirror_mode": {
    "name": "ipython",
    "version": 3
   },
   "file_extension": ".py",
   "mimetype": "text/x-python",
   "name": "python",
   "nbconvert_exporter": "python",
   "pygments_lexer": "ipython3",
   "version": "3.9.0"
  }
 },
 "nbformat": 4,
 "nbformat_minor": 5
}
