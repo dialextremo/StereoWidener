{
 "cells": [
  {
   "cell_type": "markdown",
   "id": "0",
   "metadata": {},
   "source": [
    "<p> This notebook compares the magnitude response and interchannel coherence of 3 types of stereo decorrelation filters -allpass cascade, velvet noise and optimised velvet noise\n",
    "</p>"
   ]
  },
  {
   "cell_type": "code",
   "execution_count": null,
   "id": "1",
   "metadata": {},
   "outputs": [],
   "source": [
    "import numpy as np\n",
    "from scipy.fft import rfft, rfftfreq\n",
    "from scipy.signal import sosfreqz\n",
    "from importlib import reload\n",
    "import matplotlib.pyplot as plt\n",
    "import os, sys\n",
    "from tqdm import tqdm\n",
    "from scipy.io import loadmat, savemat\n",
    "from typing import Optional\n",
    "path = os.path.abspath('../.')\n",
    "sys.path.append(path)"
   ]
  },
  {
   "cell_type": "code",
   "execution_count": null,
   "id": "2",
   "metadata": {},
   "outputs": [],
   "source": [
    "from velvet import *\n",
    "from allpass import *\n",
    "from utils import ms_to_samps, db\n",
    "from plot import *\n",
    "from utils import calculate_interchannel_cross_correlation_matrix"
   ]
  },
  {
   "cell_type": "markdown",
   "id": "3",
   "metadata": {},
   "source": [
    "### Helper functions"
   ]
  },
  {
   "cell_type": "code",
   "execution_count": null,
   "id": "4",
   "metadata": {},
   "outputs": [],
   "source": [
    "def get_ir_spectrum(ir:np.ndarray, fs: float):\n",
    "    num_chan, ir_len = ir.shape\n",
    "    fft_size = np.int32(2 ** np.ceil(np.log2(ir_len)))\n",
    "    ir_spectrum = rfft(ir, fft_size, axis=-1)\n",
    "    freq_axis = rfftfreq(fft_size, d = 1.0/fs)\n",
    "    return ir_spectrum, freq_axis\n",
    "\n",
    "\n",
    "def plot_sos_response(sos:np.ndarray, fs: float, num_bins:int):\n",
    "    if sos.ndim == 3:\n",
    "        num_chan = sos.shape[0]\n",
    "        freq_response = np.zeros((num_chan, num_bins), dtype = complex)\n",
    "        for chan in range(num_chan):\n",
    "            w, freq_response[chan, :] = sosfreqz(sos[chan, ...], worN=num_bins)\n",
    "    else:\n",
    "        w, freq_response = sosfreqz(sos, worN=num_bins)\n",
    "    freqs = w / np.pi * fs\n",
    "    return freq_response, freqs\n",
    "\n",
    "\n",
    "def pick_minimum_coherence_decorrelator(decorr_irs :float, \n",
    "                                        fs: float, \n",
    "                                        num_iters : int, \n",
    "                                        num_channels: int = 2, \n",
    "                                        bands_per_octave :int = 3,\n",
    "                                        cost_fn_vals: Optional[np.ndarray] = None) -> int:\n",
    "    iac_freqs = pf.dsp.filter.fractional_octave_frequencies(num_fractions=bands_per_octave, \n",
    "                                            frequency_range=(20, sample_rate/2.0), \n",
    "                                            return_cutoff=False)[0]\n",
    "    num_freqs = len(iac_freqs)\n",
    "    icc_matrix_all = np.zeros((num_iters, num_freqs))\n",
    "    for num_ir in tqdm(range(num_iters)):\n",
    "        icc_matrix, _ = calculate_interchannel_cross_correlation_matrix(np.squeeze(decorr_irs[num_ir, ...]),\n",
    "                                                                        fs=fs,\n",
    "                                                                        num_channels=num_channels,\n",
    "                                                                        time_axis=-1,\n",
    "                                                                        channel_axis=0,\n",
    "                                                                        bands_per_octave=bands_per_octave,\n",
    "                                                                        freq_range=(20, fs/2.0))\n",
    "\n",
    "        icc_matrix_all[num_ir, :] = np.squeeze(icc_matrix[..., 0, 1])\n",
    "\n",
    "    # weighted cost function taking into account min ICC and spectral flatness\n",
    "    mean_icc = np.mean(np.abs(icc_matrix_all), axis=-1)\n",
    "    if cost_fn_vals is None:\n",
    "        return np.argmin(mean_icc)\n",
    "    else:\n",
    "        lamb = 0.5\n",
    "        meu = 0.1\n",
    "        net_cost_function = (1-lamb) * mean_icc + lamb * meu * np.sum(cost_fn_vals, axis=-1)\n",
    "        return np.argmin(net_cost_function)"
   ]
  },
  {
   "cell_type": "markdown",
   "id": "5",
   "metadata": {},
   "source": [
    "### Global parameters"
   ]
  },
  {
   "cell_type": "code",
   "execution_count": null,
   "id": "6",
   "metadata": {},
   "outputs": [],
   "source": [
    "sample_rate = 48000\n",
    "ir_length_ms = 15\n",
    "ir_length_samps = ms_to_samps(ir_length_ms, sample_rate)\n",
    "num_biquads = 200\n",
    "num_channels = 2\n",
    "num_iter = 100\n",
    "save_flag = False\n",
    "plot_flag = True if num_iter == 1 else False"
   ]
  },
  {
   "cell_type": "markdown",
   "id": "7",
   "metadata": {},
   "source": [
    "### Loop over stereo channels"
   ]
  },
  {
   "cell_type": "code",
   "execution_count": null,
   "id": "8",
   "metadata": {},
   "outputs": [],
   "source": [
    "ap_ir = np.zeros((num_iter, num_channels, ir_length_samps))\n",
    "sos_section = np.zeros((num_iter, num_channels, num_biquads, 6))\n",
    "init_vn_sequence = np.zeros_like(ap_ir)\n",
    "opt_vn_sequence = np.zeros_like(ap_ir)\n",
    "cost_fn_val = np.zeros((num_iter, num_channels))"
   ]
  },
  {
   "cell_type": "markdown",
   "id": "9",
   "metadata": {},
   "source": [
    "#### Create allpass biquad sequence"
   ]
  },
  {
   "cell_type": "code",
   "execution_count": null,
   "id": "10",
   "metadata": {},
   "outputs": [],
   "source": [
    "for iter in tqdm(range(num_iter)):\n",
    "    for chan in range(num_channels):\n",
    "        sos_section[iter, chan, ...] = decorrelate_allpass_filters(sample_rate, nbiquads = num_biquads, max_grp_del_ms = 30)\n",
    "        ap_ir[iter, chan, :] = get_allpass_impulse_response(sos_section[iter, chan, ...], sample_rate, ir_length_ms)\n",
    "        if plot_flag:\n",
    "            fig = plt.figure()\n",
    "            plt.subplot(111)\n",
    "            plt.plot(ap_ir[chan, :])\n",
    "            plt.title('Allpass IR')"
   ]
  },
  {
   "cell_type": "markdown",
   "id": "11",
   "metadata": {},
   "source": [
    "#### Create a VN sequence and optimise it iif the optimised files don't exist already"
   ]
  },
  {
   "cell_type": "code",
   "execution_count": null,
   "id": "12",
   "metadata": {},
   "outputs": [],
   "source": [
    "loadpath = \"../../../Resources/decorrelation_ir_matrix.mat\"\n",
    "try:\n",
    "    ir_dict = loadmat(loadpath)\n",
    "    init_vn_sequence = ir_dict['velvet']\n",
    "    opt_vn_sequence = ir_dict['opt-velvet']\n",
    "    cost_fn_val = ir_dict['cost-func-vals']\n",
    "except: \n",
    "    raise OSError(\"File not found\")\n",
    "    \n",
    "    for iter in tqdm(range(num_iter)):\n",
    "        for chan in range(num_channels):\n",
    "            # number of VN sequences\n",
    "            num_seq = 1\n",
    "            # 1 samples per millisecond\n",
    "            num_samp_per_ms = 1\n",
    "            grid_size = int(sample_rate / (num_samp_per_ms*1e3))\n",
    "            ir_length_samps = ms_to_samps(ir_length_ms, sample_rate)\n",
    "            decay_db = 60\n",
    "        \n",
    "            init_vn_seq = np.squeeze(generate_velvet_noise_sequence(num_seq, sample_rate, grid_size, ir_length_samps).T)\n",
    "            impulse_locations = np.nonzero(init_vn_seq)[0]\n",
    "            impulse_signs = np.sign(init_vn_seq[impulse_locations])\n",
    "            num_impulses = len(impulse_locations)\n",
    "        \n",
    "            decay_slope = -np.log(np.power(10, -decay_db / 20)) / ir_length_samps\n",
    "            init_vn_seq_with_decay = np.zeros_like(init_vn_seq)\n",
    "            init_vn_seq_with_decay[impulse_locations] = np.exp(-impulse_locations * decay_slope) * impulse_signs\n",
    "        \n",
    "        \n",
    "            #### Optimise the VN sequence\n",
    "        \n",
    "            num_samples_per_second = sample_rate / grid_size\n",
    "            opt_vn_seq, opt_vn_params, cost_fn_val[iter, chan] = optimise_velvet_noise_sequence(init_vn_seq, \n",
    "                                                        sample_rate, \n",
    "                                                        num_samples_per_second, \n",
    "                                                        impulse_locations, \n",
    "                                                        decay_db,\n",
    "                                                        verbose=False)\n",
    "        \n",
    "            init_vn_sequence[iter, chan, :] = init_vn_seq_with_decay\n",
    "            opt_vn_sequence[iter, chan, :] = opt_vn_seq\n",
    "        \n",
    "            #### Plot the original and optimised sequence\n",
    "            if plot_flag:\n",
    "                fig = plt.figure()\n",
    "                plt.subplot(211)\n",
    "                plt.stem(init_vn_sequence[chan, :])\n",
    "                plt.ylim([-1, 1])\n",
    "                plt.title('VN sequence')\n",
    "            \n",
    "                plt.subplot(212)\n",
    "                plt.stem(opt_vn_sequence[chan, :])\n",
    "                plt.title('Optimised VN sequence')\n",
    "                plt.ylim([-1, 1])\n",
    "        if plot_flag:\n",
    "            fig.tight_layout(pad=1.0)\n"
   ]
  },
  {
   "cell_type": "markdown",
   "id": "13",
   "metadata": {},
   "source": [
    "### For each decorrelator, find the IR pair that gives the minimum IC over all frequency bands"
   ]
  },
  {
   "cell_type": "code",
   "execution_count": null,
   "id": "14",
   "metadata": {},
   "outputs": [],
   "source": [
    "all_irs = np.stack((ap_ir, init_vn_sequence, opt_vn_sequence), axis = -1)\n",
    "num_irs = np.shape(all_irs)[-1]\n",
    "min_ir_idx = dict()\n",
    "keys = ['allpass' ,'velvet' ,'opt-velvet']\n",
    "for k in range(num_irs):\n",
    "    if keys[k] == 'opt-velvet':\n",
    "        min_ir_idx[keys[k]] = pick_minimum_coherence_decorrelator(all_irs[...,-1], sample_rate, num_iter, cost_fn_vals=cost_fn_val)\n",
    "    else:     \n",
    "        min_ir_idx[keys[k]] = pick_minimum_coherence_decorrelator(all_irs[...,-1], sample_rate, num_iter)\n",
    "    "
   ]
  },
  {
   "cell_type": "markdown",
   "id": "15",
   "metadata": {},
   "source": [
    "### Save VN and optimised VN sequence that gives minimum IC"
   ]
  },
  {
   "cell_type": "code",
   "execution_count": null,
   "id": "16",
   "metadata": {},
   "outputs": [],
   "source": [
    "if save_flag:\n",
    "    with open('../../../Resources/opt_vn_filters.txt','wb') as f:\n",
    "        np.savetxt(f, np.squeeze(opt_vn_sequence[min_ir_idx['opt-velvet']]), fmt='%.4f')\n",
    "    \n",
    "    with open('../../../Resources/init_vn_filters.txt','wb') as f:\n",
    "        np.savetxt(f, np.squeeze(init_vn_sequence[min_ir_idx['velvet']]), fmt='%.4f')"
   ]
  },
  {
   "cell_type": "markdown",
   "id": "17",
   "metadata": {},
   "source": [
    "### Compare the magnitude spectrum of all 3"
   ]
  },
  {
   "cell_type": "code",
   "execution_count": null,
   "id": "18",
   "metadata": {},
   "outputs": [],
   "source": [
    "impulse_mag, freq_axis = plot_sos_response(sos_section[min_ir_idx['allpass']], \n",
    "                                           sample_rate, \n",
    "                                           num_bins = np.int32(2 ** np.ceil(np.log2(ir_length_samps))))\n",
    "plt.figure(figsize=[6, 4])\n",
    "semiaudplot(freq_axis, db(np.abs(impulse_mag)))\n",
    "plt.title('Allpass cascade IR')\n",
    "plt.ylabel('Magnitude (dB)')\n",
    "plt.ylim([-60, 10])\n",
    "if save_flag:\n",
    "    plt.savefig('../../figures/ap_mag_response.png', dpi=300)\n",
    "\n",
    "\n",
    "impulse_mag, freq_axis = get_ir_spectrum(init_vn_sequence[min_ir_idx['velvet']], sample_rate)\n",
    "plt.figure(figsize=[6, 4])\n",
    "semiaudplot(freq_axis, db(np.abs(impulse_mag)))\n",
    "plt.title('Velvet noise IR')\n",
    "plt.ylim([-60, 10])\n",
    "plt.ylabel('Magnitude (dB)')\n",
    "if save_flag:\n",
    "    plt.savefig('../../figures/velvet_mag_response.png', dpi=300)\n",
    "\n",
    "\n",
    "impulse_mag, freq_axis = get_ir_spectrum(opt_vn_sequence[min_ir_idx['opt-velvet']], sample_rate)\n",
    "plt.figure(figsize=[6, 4])\n",
    "semiaudplot(freq_axis, db(np.abs(impulse_mag)))\n",
    "plt.title('Optimised velvet noise IR')\n",
    "plt.ylim([-60, 10])\n",
    "plt.ylabel('Magnitude (dB)')\n",
    "if save_flag:\n",
    "    plt.savefig('../../figures/opt_velvet_response.png', dpi=300)\n",
    "\n"
   ]
  },
  {
   "cell_type": "markdown",
   "id": "19",
   "metadata": {},
   "source": [
    "### Compare the interchannel coherence of all 3 - plot the median IC of all filters, and the IC of the best performing filters"
   ]
  },
  {
   "cell_type": "code",
   "execution_count": null,
   "id": "20",
   "metadata": {},
   "outputs": [],
   "source": [
    "import pyfar as pf\n",
    "\n",
    "bands_per_octave=3\n",
    "iac_freqs = pf.dsp.filter.fractional_octave_frequencies(num_fractions=bands_per_octave, \n",
    "                                            frequency_range=(20, sample_rate/2.0), \n",
    "                                            return_cutoff=False)[0]\n",
    "num_freqs = len(iac_freqs)\n",
    "icc_vector_all = np.zeros((num_iter, num_freqs, num_irs))\n",
    "icc_vector_best = np.zeros((num_freqs, num_irs))\n",
    "fig, axis = plt.subplots(figsize=(6, 4))\n",
    "titles = ['Allpass', 'Velvet', 'Optimised Velvet']\n",
    "\n",
    "for iter in tqdm(range(num_iter)):\n",
    "    for num_ir in range(num_irs):\n",
    "        icc_matrix, _ = calculate_interchannel_cross_correlation_matrix(all_irs[iter, ..., num_ir],\n",
    "                                                                        fs=sample_rate,\n",
    "                                                                        num_channels=num_channels,\n",
    "                                                                        time_axis=-1,\n",
    "                                                                        channel_axis=0,\n",
    "                                                                        bands_per_octave=bands_per_octave,\n",
    "                                                                        freq_range=(20, sample_rate/2.0))\n",
    "        icc_vector_all[iter,:, num_ir] = np.squeeze(icc_matrix[..., 0, 1])\n",
    "        if iter == 0:\n",
    "            icc_matrix_best, _ = calculate_interchannel_cross_correlation_matrix(all_irs[min_ir_idx[keys[num_ir]], ..., num_ir],\n",
    "                                                                        fs=sample_rate,\n",
    "                                                                        num_channels=num_channels,\n",
    "                                                                        time_axis=-1,\n",
    "                                                                        channel_axis=0,\n",
    "                                                                        bands_per_octave=bands_per_octave,\n",
    "                                                                        freq_range=(20, sample_rate/2.0))\n",
    "            icc_vector_best[:, num_ir] = np.squeeze(icc_matrix[..., 0, 1])\n",
    "\n",
    "            \n",
    "\n",
    " "
   ]
  },
  {
   "cell_type": "code",
   "execution_count": null,
   "id": "21",
   "metadata": {},
   "outputs": [],
   "source": [
    "semiaudplot(iac_freqs, np.median(icc_vector_all, axis=0), marker='*', interp=False)\n",
    "# semiaudplot(iac_freqs, icc_vector_best, marker='o', interp=False)\n",
    "plt.ylabel('Coherence')\n",
    "plt.ylim([0, 1.01])\n",
    "plt.legend(['allpass', 'velvet', 'opt velvet'])\n",
    "plt.grid()\n",
    "if save_flag:\n",
    "    plt.savefig('../../figures/decorr_iac.png', dpi=300)"
   ]
  },
  {
   "cell_type": "code",
   "execution_count": null,
   "id": "22",
   "metadata": {},
   "outputs": [],
   "source": [
    "ir_dict= {\"allpass\": ap_ir, \"velvet\":init_vn_sequence, \"opt-velvet\":opt_vn_sequence, \"cost-func-vals\" : cost_fn_val}\n",
    "savemat(\"../../../Resources/decorrelation_ir_matrix.mat\", ir_dict)"
   ]
  }
 ],
 "metadata": {
  "kernelspec": {
   "display_name": "Python 3 (ipykernel)",
   "language": "python",
   "name": "python3"
  },
  "language_info": {
   "codemirror_mode": {
    "name": "ipython",
    "version": 3
   },
   "file_extension": ".py",
   "mimetype": "text/x-python",
   "name": "python",
   "nbconvert_exporter": "python",
   "pygments_lexer": "ipython3",
   "version": "3.9.0"
  }
 },
 "nbformat": 4,
 "nbformat_minor": 5
}
