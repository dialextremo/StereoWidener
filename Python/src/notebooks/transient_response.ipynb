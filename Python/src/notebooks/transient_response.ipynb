{
 "cells": [
  {
   "cell_type": "markdown",
   "id": "0",
   "metadata": {},
   "source": [
    "### Check the transient response of the stereo widener with percussive signals"
   ]
  },
  {
   "cell_type": "code",
   "execution_count": null,
   "id": "1",
   "metadata": {},
   "outputs": [],
   "source": [
    "import numpy as np\n",
    "import soundfile as sf\n",
    "import os, sys\n",
    "from typing import Optional\n",
    "import matplotlib.pyplot as plt\n",
    "from scipy.signal import spectrogram\n",
    "from importlib import reload\n",
    "path = os.path.abspath('../.')\n",
    "sys.path.append(path)"
   ]
  },
  {
   "cell_type": "code",
   "execution_count": null,
   "id": "2",
   "metadata": {},
   "outputs": [],
   "source": [
    "from widener import *\n",
    "from onset_detector import OnsetDetector\n",
    "from utils import db, ms_to_samps\n",
    "from plot import *\n",
    "save_flag = True"
   ]
  },
  {
   "cell_type": "markdown",
   "id": "3",
   "metadata": {},
   "source": [
    "#### Helper function"
   ]
  },
  {
   "cell_type": "code",
   "execution_count": null,
   "id": "4",
   "metadata": {},
   "outputs": [],
   "source": [
    "def plot_spectrogram(signal: np.ndarray, fs:float, title: str, nfft:int=2**10, axis:Optional[int]=None):\n",
    "    if axis is None:\n",
    "        ff, tt, Sxx = spectrogram(signal, fs=fs, window='hann', nfft=nfft)\n",
    "    else:\n",
    "        ff, tt, Sxx = spectrogram(signal, fs=fs, window='hann', nfft=nfft, axis=axis)\n",
    "    Sxx_norm = Sxx/np.max(np.abs(Sxx))\n",
    "    Sxx_db = db(np.abs(Sxx_norm))\n",
    "    if Sxx.ndim == 3:    \n",
    "        fig, ax = plt.subplots(2,1)\n",
    "        for num_sig in range(Sxx.shape[1]):\n",
    "            ax[num_sig].imshow(np.squeeze(Sxx_db[:, num_sig, :]), \n",
    "                               cmap = 'jet', \n",
    "                               extent=[0,max(tt),0,max(ff)], \n",
    "                               interpolation='bilinear', \n",
    "                               aspect = 'auto', \n",
    "                               origin = 'lower')\n",
    "            ax[num_sig].set_xlabel('Time (s)') \n",
    "            ax[num_sig].set_ylabel('Frequency (Hz)')\n",
    "            ax[num_sig].set_ylim([20,20000])\n",
    "            ax[num_sig].grid(True)\n",
    "        ax[0].set_title(title)\n",
    "\n",
    "    else:\n",
    "        fig, ax = plt.subplots()\n",
    "        ax.imshow(np.squeeze(Sxx_db), \n",
    "                   cmap = 'jet', \n",
    "                   extent=[0,max(tt),0,max(ff)], \n",
    "                   interpolation='bilinear', \n",
    "                   aspect = 'auto', \n",
    "                   origin = 'lower')\n",
    "        ax.set_title(title)\n",
    "        ax.set_xlabel('Time (s)')\n",
    "        ax.set_ylabel('Frequency (Hz)')\n",
    "        ax.set_ylim([20,20000])\n",
    "        ax.grid(True)\n",
    "    return fig"
   ]
  },
  {
   "cell_type": "markdown",
   "id": "5",
   "metadata": {},
   "source": [
    "#### Check the onset detector"
   ]
  },
  {
   "cell_type": "code",
   "execution_count": null,
   "id": "6",
   "metadata": {},
   "outputs": [],
   "source": [
    "input_signal, fs = sf.read('../../audio/lexicon_dry15.wav')\n",
    "trim_start_samp = int(ms_to_samps(1200, fs))\n",
    "trim_end_samp = int(ms_to_samps(3000, fs))\n",
    "trimmed_input_signal = input_signal[trim_start_samp : trim_end_samp, :]\n",
    "# plot spectrogram\n",
    "fig = plot_spectrogram(trimmed_input_signal[:,0], fs, 'Input signal', axis=0, nfft=2**9)\n",
    "if save_flag:\n",
    "    fig.savefig('../../figures/transient_input_spec.png', dpi=300)"
   ]
  },
  {
   "cell_type": "code",
   "execution_count": null,
   "id": "7",
   "metadata": {},
   "outputs": [],
   "source": [
    "onset_detect = OnsetDetector(fs, \n",
    "                             attack_time_ms=5.0, \n",
    "                             release_time_ms=20.0,\n",
    "                             min_onset_hold_ms=80.0,\n",
    "                             min_onset_sep_ms=20.0)\n",
    "onset_detect.process(input_signal, to_plot=True)"
   ]
  },
  {
   "cell_type": "markdown",
   "id": "8",
   "metadata": {},
   "source": [
    "#### Broadband widener with and without transient detection"
   ]
  },
  {
   "cell_type": "code",
   "execution_count": null,
   "id": "9",
   "metadata": {},
   "outputs": [],
   "source": [
    "decorr_type = DecorrelationType.ALLPASS\n",
    "beta_init = np.pi/2\n",
    "stereo_widener = StereoWidenerBroadband(input_signal, fs, decorr_type, beta_init)\n",
    "output_signal = stereo_widener.process()\n",
    "\n",
    "# plot spectrogram\n",
    "trimmed_output_signal = output_signal[trim_start_samp : trim_end_samp, :]\n",
    "fig = plot_spectrogram(trimmed_output_signal[:,0], fs, 'Broadband widener output', axis=0, nfft=2**9)\n",
    "if save_flag:\n",
    "    fig.savefig('../../figures/transient_output_spec_wo_detection.png', dpi=300)\n",
    "    sf.write(f'../../audio/lexicon_broadband_beta={beta_init/(np.pi/2)}.wav', output_signal, fs)\n"
   ]
  },
  {
   "cell_type": "code",
   "execution_count": null,
   "id": "10",
   "metadata": {},
   "outputs": [],
   "source": [
    "del stereo_widener\n",
    "onset_detection_params = {\n",
    "    'min_onset_hold_ms':80.0,\n",
    "    'min_onset_sep_ms':20.0,\n",
    "}\n",
    "stereo_widener = StereoWidenerBroadband(input_signal, \n",
    "                                        fs, \n",
    "                                        decorr_type, \n",
    "                                        beta_init, \n",
    "                                        detect_transient=True, \n",
    "                                        onset_detection_params=onset_detection_params)\n",
    "output_signal = stereo_widener.process()\n",
    "trimmed_output_signal = output_signal[trim_start_samp : trim_end_samp, :]\n",
    "\n",
    "# plot spectrogram\n",
    "fig = plot_spectrogram(trimmed_output_signal[:,0], fs, 'Broadband widener output', axis=0, nfft=2**9)\n",
    "if save_flag:\n",
    "    fig.savefig('../../figures/transient_output_spec_with_detection.png', dpi=300)\n",
    "    sf.write(f'../../audio/lexicon_broadband_transient_beta={beta_init/(np.pi/2)}.wav', output_signal, fs)"
   ]
  },
  {
   "cell_type": "code",
   "execution_count": null,
   "id": "11",
   "metadata": {},
   "outputs": [],
   "source": [
    "from plot import time_plot\n",
    "plt.figure()\n",
    "plt.subplot(211)\n",
    "time_plot(input_signal, fs, db_scale=False)\n",
    "plt.subplot(212)\n",
    "time_plot(output_signal, fs, db_scale=False)"
   ]
  }
 ],
 "metadata": {
  "kernelspec": {
   "display_name": "Python 3 (ipykernel)",
   "language": "python",
   "name": "python3"
  },
  "language_info": {
   "codemirror_mode": {
    "name": "ipython",
    "version": 3
   },
   "file_extension": ".py",
   "mimetype": "text/x-python",
   "name": "python",
   "nbconvert_exporter": "python",
   "pygments_lexer": "ipython3",
   "version": "3.9.0"
  }
 },
 "nbformat": 4,
 "nbformat_minor": 5
}
